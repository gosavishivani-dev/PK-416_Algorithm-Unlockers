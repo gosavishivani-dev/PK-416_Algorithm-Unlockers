{
 "cells": [
  {
   "cell_type": "code",
   "execution_count": 2,
   "metadata": {},
   "outputs": [
    {
     "name": "stdout",
     "output_type": "stream",
     "text": [
      "Enter commodity : Tomato\n",
      "  Commodity         Min          Max           PSF\n",
      "0    Tomato  659.032928  1084.627779  0.000000e+00\n",
      "1    Tomato  701.592413  1084.627779  7.774729e+06\n",
      "2    Tomato  744.151898  1084.627779  2.132226e+09\n",
      "3    Tomato  765.431641  1084.627779  1.592022e+07\n",
      "4    Tomato  786.711383  1084.627779  2.183248e+09\n"
     ]
    }
   ],
   "source": [
    "import pylab\n",
    "#import calendar\n",
    "#import numpy as np\n",
    "import pandas as pd\n",
    "#import seaborn as sn\n",
    "#from scipy import stats\n",
    "from datetime import datetime\n",
    "#import matplotlib.pyplot as plt\n",
    "import warnings\n",
    "pd.options.mode.chained_assignment = None\n",
    "warnings.filterwarnings(\"ignore\", category=DeprecationWarning)\n",
    "#%matplotlib inline\n",
    "\n",
    "a=input(\"Enter commodity : \")\n",
    "\n",
    "data = pd.read_csv(\"Price_Final.csv\", index_col =\"Commodity\")\n",
    "s=data.loc[[a]]\n",
    "s.to_csv(\"Price_Final_2.csv\", sep=',')\n",
    "data1 = pd.read_csv(\"Price_Final_2.csv\")\n",
    "print(data1)"
   ]
  },
  {
   "cell_type": "code",
   "execution_count": null,
   "metadata": {},
   "outputs": [],
   "source": []
  }
 ],
 "metadata": {
  "kernelspec": {
   "display_name": "Python 3",
   "language": "python",
   "name": "python3"
  },
  "language_info": {
   "codemirror_mode": {
    "name": "ipython",
    "version": 3
   },
   "file_extension": ".py",
   "mimetype": "text/x-python",
   "name": "python",
   "nbconvert_exporter": "python",
   "pygments_lexer": "ipython3",
   "version": "3.7.3"
  }
 },
 "nbformat": 4,
 "nbformat_minor": 2
}
