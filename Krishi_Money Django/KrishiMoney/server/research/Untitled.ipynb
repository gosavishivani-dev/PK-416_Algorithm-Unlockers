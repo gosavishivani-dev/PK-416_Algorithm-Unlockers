{
 "cells": [
  {
   "cell_type": "code",
   "execution_count": 5,
   "metadata": {},
   "outputs": [
    {
     "name": "stdout",
     "output_type": "stream",
     "text": [
      "Enter commodity : Onion\n",
      "   Commodity        Date       Modal\n",
      "0      Onion  13-01-2019  952.322002\n",
      "1      Onion  20-01-2019  999.774940\n",
      "2      Onion  27-01-2019  743.630730\n",
      "3      Onion  03-02-2019  732.067440\n",
      "4      Onion  10-02-2019  999.364298\n",
      "5      Onion  17-02-2019  885.323740\n",
      "6      Onion  24-02-2019  691.092095\n",
      "7      Onion  03-03-2019  773.508256\n",
      "8      Onion  10-03-2019  719.978271\n",
      "9      Onion  17-03-2019  840.186065\n",
      "10     Onion  24-03-2019  900.390435\n",
      "11     Onion  31-03-2019  825.974969\n",
      "12     Onion  07-04-2019  908.166889\n",
      "13     Onion  14-04-2019  938.715748\n",
      "14     Onion  21-04-2019  835.296477\n",
      "15     Onion  28-04-2019  735.456419\n",
      "16     Onion  05-05-2019  939.890379\n",
      "17     Onion  12-05-2019  821.070470\n",
      "18     Onion  19-05-2019  790.016455\n",
      "19     Onion  26-05-2019  745.379835\n",
      "20     Onion  02-06-2019  680.133043\n",
      "21     Onion  09-06-2019  737.822829\n",
      "22     Onion  16-06-2019  779.067513\n",
      "23     Onion  23-06-2019  736.633828\n",
      "24     Onion  30-06-2019  845.095078\n"
     ]
    }
   ],
   "source": [
    "import pylab\n",
    "#import calendar\n",
    "#import numpy as np\n",
    "import pandas as pd\n",
    "#import seaborn as sn\n",
    "#from scipy import stats\n",
    "from datetime import datetime\n",
    "#import matplotlib.pyplot as plt\n",
    "import warnings\n",
    "pd.options.mode.chained_assignment = None\n",
    "warnings.filterwarnings(\"ignore\", category=DeprecationWarning)\n",
    "#%matplotlib inline\n",
    "\n",
    "a=input(\"Enter commodity : \")\n",
    "\n",
    "data = pd.read_csv(\"Modal_1.csv\", index_col =\"Commodity\")\n",
    "s=data.loc[[a]]\n",
    "s.to_csv(\"Arrival_2.csv\", sep=',')\n",
    "data1 = pd.read_csv(\"Arrival_2.csv\")\n",
    "print(data1)"
   ]
  },
  {
   "cell_type": "code",
   "execution_count": 2,
   "metadata": {},
   "outputs": [
    {
     "name": "stdout",
     "output_type": "stream",
     "text": [
      "Commodity,Date,Modal\n",
      "Onion,13-01-2019,952.3220018999999\n",
      "Onion,20-01-2019,999.7749402999999\n",
      "Onion,27-01-2019,743.6307302\n",
      "Onion,03-02-2019,732.0674399000001\n",
      "Onion,10-02-2019,999.3642977\n",
      "Onion,17-02-2019,885.3237396\n",
      "Onion,24-02-2019,691.0920945\n",
      "Onion,03-03-2019,773.5082556\n",
      "Onion,10-03-2019,719.9782712\n",
      "Onion,17-03-2019,840.1860648\n",
      "Onion,24-03-2019,900.3904345000001\n",
      "Onion,31-03-2019,825.9749687999999\n",
      "Onion,07-04-2019,908.1668888\n",
      "Onion,14-04-2019,938.7157476\n",
      "Onion,21-04-2019,835.2964768999999\n",
      "Onion,28-04-2019,735.4564186000001\n",
      "Onion,05-05-2019,939.8903793\n",
      "Onion,12-05-2019,821.0704698\n",
      "Onion,19-05-2019,790.0164547999999\n",
      "Onion,26-05-2019,745.3798349\n",
      "Onion,02-06-2019,680.1330432\n",
      "Onion,09-06-2019,737.8228292\n",
      "Onion,16-06-2019,779.0675131\n",
      "Onion,23-06-2019,736.6338283\n",
      "Onion,30-06-2019,845.0950780999999\n",
      "\n"
     ]
    }
   ],
   "source": [
    "with open(\"Arrival_2.csv\",'r') as f:\n",
    "    print(f.read())"
   ]
  },
  {
   "cell_type": "code",
   "execution_count": 6,
   "metadata": {},
   "outputs": [
    {
     "data": {
      "text/plain": [
       "[{'Commodity': 'Onion', 'Date': '13-01-2019', 'Modal': '952.3220018999999'},\n",
       " {'Commodity': 'Onion', 'Date': '20-01-2019', 'Modal': '999.7749402999999'},\n",
       " {'Commodity': 'Onion', 'Date': '27-01-2019', 'Modal': '743.6307302'},\n",
       " {'Commodity': 'Onion', 'Date': '03-02-2019', 'Modal': '732.0674399000001'},\n",
       " {'Commodity': 'Onion', 'Date': '10-02-2019', 'Modal': '999.3642977'},\n",
       " {'Commodity': 'Onion', 'Date': '17-02-2019', 'Modal': '885.3237396'},\n",
       " {'Commodity': 'Onion', 'Date': '24-02-2019', 'Modal': '691.0920945'},\n",
       " {'Commodity': 'Onion', 'Date': '03-03-2019', 'Modal': '773.5082556'},\n",
       " {'Commodity': 'Onion', 'Date': '10-03-2019', 'Modal': '719.9782712'},\n",
       " {'Commodity': 'Onion', 'Date': '17-03-2019', 'Modal': '840.1860648'},\n",
       " {'Commodity': 'Onion', 'Date': '24-03-2019', 'Modal': '900.3904345000001'},\n",
       " {'Commodity': 'Onion', 'Date': '31-03-2019', 'Modal': '825.9749687999999'},\n",
       " {'Commodity': 'Onion', 'Date': '07-04-2019', 'Modal': '908.1668888'},\n",
       " {'Commodity': 'Onion', 'Date': '14-04-2019', 'Modal': '938.7157476'},\n",
       " {'Commodity': 'Onion', 'Date': '21-04-2019', 'Modal': '835.2964768999999'},\n",
       " {'Commodity': 'Onion', 'Date': '28-04-2019', 'Modal': '735.4564186000001'},\n",
       " {'Commodity': 'Onion', 'Date': '05-05-2019', 'Modal': '939.8903793'},\n",
       " {'Commodity': 'Onion', 'Date': '12-05-2019', 'Modal': '821.0704698'},\n",
       " {'Commodity': 'Onion', 'Date': '19-05-2019', 'Modal': '790.0164547999999'},\n",
       " {'Commodity': 'Onion', 'Date': '26-05-2019', 'Modal': '745.3798349'},\n",
       " {'Commodity': 'Onion', 'Date': '02-06-2019', 'Modal': '680.1330432'},\n",
       " {'Commodity': 'Onion', 'Date': '09-06-2019', 'Modal': '737.8228292'},\n",
       " {'Commodity': 'Onion', 'Date': '16-06-2019', 'Modal': '779.0675131'},\n",
       " {'Commodity': 'Onion', 'Date': '23-06-2019', 'Modal': '736.6338283'},\n",
       " {'Commodity': 'Onion', 'Date': '30-06-2019', 'Modal': '845.0950780999999'}]"
      ]
     },
     "execution_count": 6,
     "metadata": {},
     "output_type": "execute_result"
    }
   ],
   "source": [
    "import csv\n",
    "import json\n",
    "output =[]\n",
    "with open(\"Arrival_2.csv\",'r') as f: \n",
    "    reader = csv.DictReader(f)\n",
    "    for records in reader:\n",
    "        output.append(records)\n",
    "with open(\"RecordsJson_2.json\",'w')as outfile:\n",
    "    json.dump(output,outfile,sort_keys=True, indent=4)\n",
    "with open(\"RecordsJson_2.json\",'r')as infile:\n",
    "    indata_1 = json.load(infile)\n",
    "indata_1"
   ]
  },
  {
   "cell_type": "code",
   "execution_count": null,
   "metadata": {},
   "outputs": [],
   "source": []
  }
 ],
 "metadata": {
  "kernelspec": {
   "display_name": "Python 3",
   "language": "python",
   "name": "python3"
  },
  "language_info": {
   "codemirror_mode": {
    "name": "ipython",
    "version": 3
   },
   "file_extension": ".py",
   "mimetype": "text/x-python",
   "name": "python",
   "nbconvert_exporter": "python",
   "pygments_lexer": "ipython3",
   "version": "3.7.3"
  }
 },
 "nbformat": 4,
 "nbformat_minor": 2
}
